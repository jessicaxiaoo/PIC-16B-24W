{
 "cells": [
  {
   "cell_type": "raw",
   "id": "a0e846b8",
   "metadata": {},
   "source": [
    "---\n",
    "title: \"Creating posts\"\n",
    "author: \"Jessica Xiao\"\n",
    "date: \"2024-1-21\"\n",
    "categories: [week 0, example]\n",
    "---"
   ]
  },
  {
   "cell_type": "markdown",
   "id": "f8aeb673",
   "metadata": {},
   "source": []
  },
  {
   "cell_type": "code",
   "execution_count": null,
   "id": "a4310d4d",
   "metadata": {
    "scrolled": true
   },
   "outputs": [],
   "source": []
  },
  {
   "cell_type": "markdown",
   "id": "741cfb7b",
   "metadata": {},
   "source": []
  },
  {
   "cell_type": "code",
   "execution_count": null,
   "id": "03f17a6f",
   "metadata": {},
   "outputs": [],
   "source": []
  },
  {
   "cell_type": "code",
   "execution_count": null,
   "id": "6483f270",
   "metadata": {},
   "outputs": [],
   "source": []
  },
  {
   "cell_type": "markdown",
   "id": "690401b9",
   "metadata": {},
   "source": [
    "# HW0\n",
    "\n",
    "In this blog post, we will be creating a data visualization on the Palmer Penguins dataset.\n",
    "\n",
    "### Importing libraries and reading data\n",
    "First, let's import the necessary libararies and read the data into python.\n",
    "```python\n",
    "import pandas as pd\n",
    "import seaborn as sns\n",
    "import matplotlib.pyplot as plt\n",
    "\n",
    "url = \"https://raw.githubusercontent.com/pic16b-ucla/24W/main/datasets/palmer_penguins.csv\"\n",
    "penguins = pd.read_csv(url)\n",
    "```\n",
    "As seen in the code above, pandas is used to read the data. We will next use seaborn and matplotlib to create our plot.\n",
    "\n",
    "### Creating the scatterplot\n",
    "Next, we will use the seaborn library to create our scatterplot. The scatterplot function takes the in the arguments data, x, y, and hue. \n",
    "```python\n",
    "sns.scatterplot(data=penguins, x=\"Culmen Length (mm)\", y=\"Body Mass (g)\", hue=\"Species\")\n",
    "```\n",
    "![output](hw0plot1.png)\n",
    "From this plot, we can see that there is a postive correlation between culmen length and body mass. Furthermore, we can see the differences between the 3 species of penguins.\n",
    "\n",
    "To improve our visualization, let's add a title and move the legend to the side of the plot.\n",
    "```python\n",
    "plt.legend(bbox_to_anchor=(1.05, 1),loc=2)\n",
    "plt.title(\"Scatter Plot of Culmen Length vs. Body Mass\")\n",
    "```\n",
    "![output](hw0plot2.png)\n",
    "\n"
   ]
  },
  {
   "cell_type": "code",
   "execution_count": null,
   "id": "dc653519",
   "metadata": {},
   "outputs": [],
   "source": []
  },
  {
   "cell_type": "code",
   "execution_count": null,
   "id": "33a3b7fc",
   "metadata": {},
   "outputs": [],
   "source": []
  }
 ],
 "metadata": {
  "kernelspec": {
   "display_name": "Python 3 (ipykernel)",
   "language": "python",
   "name": "python3"
  },
  "language_info": {
   "codemirror_mode": {
    "name": "ipython",
    "version": 3
   },
   "file_extension": ".py",
   "mimetype": "text/x-python",
   "name": "python",
   "nbconvert_exporter": "python",
   "pygments_lexer": "ipython3",
   "version": "3.11.5"
  }
 },
 "nbformat": 4,
 "nbformat_minor": 5
}
